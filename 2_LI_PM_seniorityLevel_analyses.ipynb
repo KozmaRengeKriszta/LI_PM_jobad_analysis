{
 "cells": [
  {
   "cell_type": "code",
   "execution_count": null,
   "id": "f64013ae",
   "metadata": {},
   "outputs": [],
   "source": [
    "import numpy as np\n",
    "import pandas as pd\n",
    "import nltk\n",
    "import re\n",
    "import time\n",
    "import openai\n",
    "openai.api_key = \"TYPE HERE YOUR API KEY\"\n",
    "\n",
    "pd.set_option('display.max_rows', None)\n",
    "pd.set_option('display.max_columns', None)"
   ]
  },
  {
   "cell_type": "markdown",
   "id": "15d65aa7",
   "metadata": {},
   "source": [
    "## Determination of seniority level and relevant experience using NLTK"
   ]
  },
  {
   "cell_type": "code",
   "execution_count": null,
   "id": "fe15b7b5",
   "metadata": {},
   "outputs": [],
   "source": [
    "# load data and make new columns\n",
    "df = pd.read_csv('LI_PM_jobDesc.csv', delimiter = ',')\n",
    "df['seniorityLevel'] = ''\n",
    "df['relExperience'] = ''\n",
    "\n",
    "# definition of keywords \n",
    "seniority_words = ['junior', 'entry', 'intership', 'medior', 'senior', 'lead', 'director', \n",
    "                   'pályakezdő', 'szenior', 'osztályvezető']\n",
    "\n",
    "# tokenization the jobDescriptions\n",
    "for index, row in df.iterrows():\n",
    "    tokens = nltk.word_tokenize(row['jobDescription'].lower())\n",
    "\n",
    "    # definition of seniority levels\n",
    "    for token in tokens:\n",
    "        if token in seniority_words:\n",
    "            df.loc[index, 'seniorityLevel'] = token\n",
    "            break\n",
    "\n",
    "    # definition of relevant experience\n",
    "    matches = re.findall(r'(\\d+\\+*-*\\d*)\\s*(?:years|yr|év)', row['jobDescription'].lower())\n",
    "    if matches:\n",
    "        df.loc[index, 'relExperience'] = ', '.join(matches)\n",
    "\n",
    "# print results\n",
    "df[['companyName', 'seniorityLevel', 'relExperience']]"
   ]
  },
  {
   "cell_type": "code",
   "execution_count": null,
   "id": "21f207d3",
   "metadata": {},
   "outputs": [],
   "source": [
    "# fix incorrect data in relExperience column\n",
    "\n",
    "df.at[18, 'relExperience'] = '2+'\n",
    "df.at[24, 'relExperience'] = '5-10'\n",
    "df.at[67, 'relExperience'] = '1-2'\n",
    "df.at[80, 'relExperience'] = ''\n",
    "df.at[104, 'relExperience'] = '2+'\n",
    "df.at[105, 'relExperience'] = ''\n",
    "df.at[117, 'relExperience'] = ''\n",
    "df.at[120, 'relExperience'] = '3'\n",
    "df.at[134, 'relExperience'] = '2'\n",
    "\n",
    "df[['companyName', 'seniorityLevel', 'relExperience']]\n"
   ]
  },
  {
   "cell_type": "markdown",
   "id": "369b852f",
   "metadata": {},
   "source": [
    "## Determination of seniority level and relevant experience using AI"
   ]
  },
  {
   "cell_type": "code",
   "execution_count": null,
   "id": "446f2867",
   "metadata": {},
   "outputs": [],
   "source": [
    "#Create a new dataframe\n",
    "LI_PM_jobad = pd.read_csv('LI_PM_jobDesc.csv', delimiter = ',')\n",
    "df2 = pd.DataFrame()\n",
    "df2['companyName'] = LI_PM_jobad['companyName']\n",
    "df2['jobDescription'] = LI_PM_jobad['jobDescription']\n",
    "df2['seniorityLevel'] = ''\n",
    "\n",
    "#definition of seniority_words\n",
    "seniority_words = ['junior', 'entry', 'intership', 'medior', 'senior', 'lead', 'director', \n",
    "                   'pályakezdő', 'szenior', 'osztályvezető']\n",
    "\n",
    "#iterate through the dataframe\n",
    "for index, row in df2.iterrows():\n",
    "    \n",
    "    prompt_seniorityLevel = row['jobDescription'] + \"\\n --- \\n This is a product manager job description.\\\n",
    "                 Decribe the seniority level of this job. Choose one from these levels \\\n",
    "                 (and write just this one world into the dataframe):\" + ','.join(seniority_words) + \"Answer the question as truthfully as possible using the provided context. \\\n",
    "                 If the seniority level cannot be clearly determined based on the description, use the value 'Unknown'.\"\n",
    "        \n",
    "    response_seniorityLevel = openai.ChatCompletion.create(\n",
    "        model = \"gpt-4\",\n",
    "        messages = [\n",
    "            {\"role\": \"system\", \"content\": \"You are a helpful data science assistant.\"},\n",
    "            {\"role\": \"user\", \"content\": prompt_seniorityLevel}],\n",
    "        max_tokens=50,\n",
    "        temperature=0)\n",
    "    \n",
    "    message_seniorityLevel = response_seniorityLevel['choices'][0]['message']['content'].strip()\n",
    "\n",
    "    df2.loc[index, 'seniorityLevel'] = message_seniorityLevel\n",
    "    \n",
    "    time.sleep(0.5)\n",
    "        \n",
    "    if index % 10 == 0:\n",
    "        print(f\"Processed row {index} for company {row['companyName']} with seniority level: {message_seniorityLevel}\")\n",
    "        \n",
    "#print results\n",
    "df2[['companyName', 'seniorityLevel']]"
   ]
  },
  {
   "cell_type": "code",
   "execution_count": null,
   "id": "35ac23d7",
   "metadata": {},
   "outputs": [],
   "source": []
  }
 ],
 "metadata": {
  "kernelspec": {
   "display_name": "Python 3 (ipykernel)",
   "language": "python",
   "name": "python3"
  },
  "language_info": {
   "codemirror_mode": {
    "name": "ipython",
    "version": 3
   },
   "file_extension": ".py",
   "mimetype": "text/x-python",
   "name": "python",
   "nbconvert_exporter": "python",
   "pygments_lexer": "ipython3",
   "version": "3.9.16"
  }
 },
 "nbformat": 4,
 "nbformat_minor": 5
}
