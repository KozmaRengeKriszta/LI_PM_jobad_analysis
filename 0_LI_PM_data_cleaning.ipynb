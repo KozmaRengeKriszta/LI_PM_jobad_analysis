{
 "cells": [
  {
   "cell_type": "code",
   "execution_count": null,
   "id": "a678975e",
   "metadata": {},
   "outputs": [],
   "source": [
    "import numpy as np\n",
    "import pandas as pd\n",
    "import matplotlib\n",
    "import matplotlib.pyplot as plt\n",
    "%matplotlib inline\n",
    "\n",
    "pd.set_option('display.max_rows', None)\n",
    "pd.set_option('display.max_columns', None)"
   ]
  },
  {
   "cell_type": "markdown",
   "id": "8a8fe43c",
   "metadata": {},
   "source": [
    "### LOADING, CLEANING AND FILTERING DATA"
   ]
  },
  {
   "cell_type": "code",
   "execution_count": null,
   "id": "fdb67ffd",
   "metadata": {},
   "outputs": [],
   "source": [
    "df1 = pd.read_csv('2023-01-23_job_details.csv', delimiter = ',')\n",
    "df2 = pd.read_csv('2023-02-11_job_details.csv', delimiter = ',')\n",
    "df3 = pd.read_csv('2023-05-06_job_details.csv', delimiter = ',')\n",
    "df4 = pd.read_csv('2023-05-30_job_details.csv', delimiter = ',')\n",
    "df5 = pd.read_csv('2023-07-05_job_details.csv', delimiter = ',')\n",
    "\n",
    "df = pd.concat([df1, df2, df3, df4, df5])\n",
    "\n",
    "df.shape"
   ]
  },
  {
   "cell_type": "code",
   "execution_count": null,
   "id": "6ff05cc6",
   "metadata": {},
   "outputs": [],
   "source": [
    "df = df.drop_duplicates()\n",
    "df.shape"
   ]
  },
  {
   "cell_type": "code",
   "execution_count": null,
   "id": "09adf81e",
   "metadata": {},
   "outputs": [],
   "source": [
    "df"
   ]
  },
  {
   "cell_type": "code",
   "execution_count": null,
   "id": "92f6f550",
   "metadata": {},
   "outputs": [],
   "source": [
    "df.describe(include = 'all')"
   ]
  },
  {
   "cell_type": "code",
   "execution_count": null,
   "id": "42cf816d",
   "metadata": {
    "scrolled": true
   },
   "outputs": [],
   "source": [
    "#find and drop rows where jobDescription is NaN\n",
    "\n",
    "df[pd.isna(df['jobDescription'])] \n",
    "#1, 157, 160, 202, 214\n",
    "\n",
    "df.drop(df.index[[1, 157, 160, 202, 214]], inplace=True)\n",
    "\n",
    "df.shape"
   ]
  },
  {
   "cell_type": "code",
   "execution_count": null,
   "id": "a5034c24",
   "metadata": {
    "scrolled": true
   },
   "outputs": [],
   "source": [
    "#find and drop rows where jobDescriptions are duplicated\n",
    "\n",
    "duplicated_rows = df.duplicated(subset='jobDescription')\n",
    "\n",
    "df = df.drop_duplicates(subset='jobDescription')\n",
    "df.describe(include = 'all')"
   ]
  },
  {
   "cell_type": "code",
   "execution_count": null,
   "id": "5c3755c6",
   "metadata": {},
   "outputs": [],
   "source": [
    "#drop unnecessary columns\n",
    "\n",
    "df.drop(columns=['companyUrl', 'viewsCount', 'companyDescription', 'companyLogoUrl', 'jobFunctions',\n",
    "                'jobState', 'timestamp', 'query', 'error', 'jobPosterProfileUrl', 'jobPosterName'],\n",
    "        inplace=True)\n",
    "\n",
    "df.shape"
   ]
  },
  {
   "cell_type": "code",
   "execution_count": null,
   "id": "d14a6e4a",
   "metadata": {},
   "outputs": [],
   "source": [
    "df.dtypes"
   ]
  },
  {
   "cell_type": "code",
   "execution_count": null,
   "id": "8130708f",
   "metadata": {},
   "outputs": [],
   "source": [
    "#converting data types of columns \n",
    "\n",
    "nan_indices = df['companyStaffCount'].isna()\n",
    "df.loc[nan_indices, 'companyStaffCount'] = 0\n",
    "\n",
    "df = df.astype({'jobId': 'int',\n",
    "                'companyStaffCount': 'int',\n",
    "                'remoteAllowed': 'bool'})\n",
    "\n",
    "df['postedAt'] = pd.to_datetime(df['postedAt'])\n",
    "df['appliesClosedAt'] = pd.to_datetime(df['appliesClosedAt'])\n"
   ]
  },
  {
   "cell_type": "code",
   "execution_count": null,
   "id": "98dd37a0",
   "metadata": {},
   "outputs": [],
   "source": [
    "df"
   ]
  },
  {
   "cell_type": "code",
   "execution_count": null,
   "id": "83b678ff",
   "metadata": {},
   "outputs": [],
   "source": [
    "#filtering data based on jobTitle\n",
    "\n",
    "relevant_expressions = ['Product Manager', 'product manager', 'Product Owner', 'Head of .* Product', 'Director of .* Product', \n",
    "                        'Product Management', 'Product Analyst', 'Team Lead', 'Product Development']\n",
    "pattern = '|'.join(relevant_expressions)\n",
    "\n",
    "relevant_jobAds = df[df['jobTitle'].str.contains(pattern, case=False, na=False, regex=True)]\n",
    "\n",
    "relevant_jobAds.reset_index(drop=True, inplace=True)\n",
    "relevant_jobAds"
   ]
  },
  {
   "cell_type": "code",
   "execution_count": null,
   "id": "4fdc6cea",
   "metadata": {},
   "outputs": [],
   "source": [
    "relevant_jobAds.shape"
   ]
  },
  {
   "cell_type": "code",
   "execution_count": null,
   "id": "b0c98077",
   "metadata": {},
   "outputs": [],
   "source": [
    "relevant_jobAds.to_csv('relevant_jobAds.csv', index=False)"
   ]
  }
 ],
 "metadata": {
  "kernelspec": {
   "display_name": "Python 3 (ipykernel)",
   "language": "python",
   "name": "python3"
  },
  "language_info": {
   "codemirror_mode": {
    "name": "ipython",
    "version": 3
   },
   "file_extension": ".py",
   "mimetype": "text/x-python",
   "name": "python",
   "nbconvert_exporter": "python",
   "pygments_lexer": "ipython3",
   "version": "3.9.16"
  }
 },
 "nbformat": 4,
 "nbformat_minor": 5
}
