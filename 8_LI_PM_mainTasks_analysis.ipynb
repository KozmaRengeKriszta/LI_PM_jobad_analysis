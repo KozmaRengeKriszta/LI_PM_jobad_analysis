{
 "cells": [
  {
   "cell_type": "code",
   "execution_count": null,
   "id": "60a27414",
   "metadata": {},
   "outputs": [],
   "source": [
    "import numpy as np\n",
    "import pandas as pd\n",
    "import nltk\n",
    "import time\n",
    "import openai\n",
    "openai.api_key = \"TYPE HERE YOUR API KEY\"\n",
    "\n",
    "pd.set_option('display.max_rows', None)\n",
    "pd.set_option('display.max_columns', None)\n",
    "#pd.set_option('display.max_colwidth', None)"
   ]
  },
  {
   "cell_type": "markdown",
   "id": "1ac1e911",
   "metadata": {},
   "source": [
    "## Main tasks"
   ]
  },
  {
   "cell_type": "code",
   "execution_count": null,
   "id": "09be721c",
   "metadata": {},
   "outputs": [],
   "source": [
    "#Create a new dataframe\n",
    "LI_PM_jobad = pd.read_csv('LI_PM_jobDesc.csv', delimiter = ',')\n",
    "df = pd.DataFrame()\n",
    "df['companyName'] = LI_PM_jobad['companyName']\n",
    "df['jobDescription'] = LI_PM_jobad['jobDescription']\n",
    "df['mainTasks'] = ''\n",
    "\n",
    "#iterate through the dataframe\n",
    "for index, row in df.iterrows():\n",
    "    \n",
    "    prompt_mainTasks = row['jobDescription'] + \"/n --- /n This is a product manager job description.\\\n",
    "        Make a brief summary of what the employee's main tasks will be in this job role.\\\n",
    "        List only the specific duties related to the job itself and\\\n",
    "        do not include general environment characteristics or soft skills or employee benefits.\\\n",
    "        Please, use only keywords (or short expressions) in your answer, do not construct full sentences.\\\n",
    "        Answer the question as truthfully as possible using the provided job description.\\\n",
    "        If there are no clear information abput main tasks in the description,\\\n",
    "        use only this value: 'Unknown' and don't use whole sentences.\"\n",
    "    \n",
    "    response_mainTasks = openai.ChatCompletion.create(\n",
    "        model = \"gpt-4\",\n",
    "        messages = [\n",
    "            {\"role\": \"system\", \"content\": \"You are a helpful data science assistant.\"},\n",
    "            {\"role\": \"user\", \"content\": prompt_mainTasks}],\n",
    "        max_tokens=100,\n",
    "        temperature=0)\n",
    "    \n",
    "    message_mainTasks = response_mainTasks['choices'][0]['message']['content'].strip()\n",
    "\n",
    "    df.loc[index, 'mainTasks'] = message_mainTasks\n",
    "    \n",
    "    time.sleep(0.5)\n",
    "        \n",
    "    if index % 10 == 0:\n",
    "        print(f\"Processed row {index} for company {row['companyName']} with main tasks: {message_mainTasks}\")\n",
    "        \n",
    "#print results\n",
    "df[['companyName', 'mainTasks']]"
   ]
  },
  {
   "cell_type": "markdown",
   "id": "70cb895a",
   "metadata": {},
   "source": [
    "## Further analysis with chatGPT\n",
    "\n",
    "At first, I classified the text fragments collected by the AI from the 212 job advertisements into 7 large groups. Then, I copied these groups one by one to ChatGPT and asked it to help me with the analysis using the following prompt:\n",
    "\n",
    "\"I will show some job advertisement details about main tasks given by employers - from now on, I will refer to this group of advertisements as jobAd_n.\n",
    "Tasks:\n",
    "1) Combine similar tasks in the jobAd_n advertisement group!\n",
    "2) Then, collect the 15 most frequently occurring tasks from this jobAd_n group!\n",
    "3) Finally, make a table of how many advertisements appeared in the jobAd_n group!\"\n",
    "\n",
    "Then, I saved the table created by ChatGPT for myself and performed the same analysis with all advertisement groups. Finally, I copied the tables created after all 7 groups and asked ChatGPT to combine similar tasks and make a last combined table."
   ]
  },
  {
   "cell_type": "code",
   "execution_count": null,
   "id": "9592394a",
   "metadata": {},
   "outputs": [],
   "source": []
  }
 ],
 "metadata": {
  "kernelspec": {
   "display_name": "Python 3 (ipykernel)",
   "language": "python",
   "name": "python3"
  },
  "language_info": {
   "codemirror_mode": {
    "name": "ipython",
    "version": 3
   },
   "file_extension": ".py",
   "mimetype": "text/x-python",
   "name": "python",
   "nbconvert_exporter": "python",
   "pygments_lexer": "ipython3",
   "version": "3.9.16"
  }
 },
 "nbformat": 4,
 "nbformat_minor": 5
}
