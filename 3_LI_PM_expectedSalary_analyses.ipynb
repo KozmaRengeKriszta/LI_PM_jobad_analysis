{
 "cells": [
  {
   "cell_type": "code",
   "execution_count": null,
   "id": "9e26ee23",
   "metadata": {},
   "outputs": [],
   "source": [
    "import numpy as np\n",
    "import pandas as pd\n",
    "import nltk\n",
    "import time\n",
    "import openai\n",
    "openai.api_key = \"TYPE HERE YOUR API KEY\"\n",
    "\n",
    "pd.set_option('display.max_rows', None)\n",
    "pd.set_option('display.max_columns', None)"
   ]
  },
  {
   "cell_type": "markdown",
   "id": "df7ac886",
   "metadata": {},
   "source": [
    "## Determination of expected salary using NLTK\n"
   ]
  },
  {
   "cell_type": "code",
   "execution_count": null,
   "id": "8147b24d",
   "metadata": {},
   "outputs": [],
   "source": [
    "# load data and make new columns\n",
    "df = pd.read_csv('LI_PM_jobDesc.csv', delimiter = ',')\n",
    "df['expectedSalary'] = ''\n",
    "\n",
    "# definition of keywords\n",
    "relevant_words = ['salary', 'payment', 'fizetés', 'ft', 'euro', 'dollar', 'font', '£', '$', '€']\n",
    "\n",
    "# tokenization the jobDescriptions\n",
    "for index, row in df.iterrows():\n",
    "    tokens = nltk.word_tokenize(row['jobDescription'].lower())\n",
    "\n",
    "    # determining whether the expected salary is given in the text\n",
    "    for token in tokens:\n",
    "        if token in relevant_words:\n",
    "            df.loc[index, 'expectedSalary'] = 'salary_given' \n",
    "            break\n",
    "\n",
    "# print results\n",
    "df[['companyName', 'expectedSalary']]\n"
   ]
  },
  {
   "cell_type": "markdown",
   "id": "5ca8a02b",
   "metadata": {},
   "source": [
    "## Determination of expected salary using AI\n"
   ]
  },
  {
   "cell_type": "code",
   "execution_count": null,
   "id": "1bf82099",
   "metadata": {},
   "outputs": [],
   "source": [
    "# Létrehozzuk az új dataframe-et\n",
    "LI_PM_jobad = df = pd.read_csv('LI_PM_jobDesc.csv', delimiter = ',')\n",
    "df2 = pd.DataFrame()\n",
    "df2['companyName'] = LI_PM_jobad['companyName']\n",
    "df2['jobDescription'] = LI_PM_jobad['jobDescription']\n",
    "df2['expectedSalary'] = ''\n",
    "\n",
    "#iterate through the dataframe\n",
    "for index, row in df2.iterrows():\n",
    "    \n",
    "    prompt_expectedSalary = row['jobDescription'] + \"/n --- /n This is a product manager job description.\\\n",
    "                 Define the expected salary of this job, and\\\n",
    "                 write the value of salary into the dataframe (write just numbers and currency)\\\n",
    "                 Answer the question as truthfully as possible using the provided context.\\\n",
    "                 If the expected salary cannot be clearly determined based on the description,\\\n",
    "                 use just this value: 'Unknown'. Please, don't write 'Expected Salary:' into the dataframe.\"\n",
    "        \n",
    "    response_expectedSalary = openai.ChatCompletion.create(\n",
    "        model = \"gpt-4\",\n",
    "        messages = [\n",
    "            {\"role\": \"system\", \"content\": \"You are a helpful data science assistant.\"},\n",
    "            {\"role\": \"user\", \"content\": prompt_expectedSalary}],\n",
    "        max_tokens=50,\n",
    "        temperature=0)\n",
    "    \n",
    "    message_expectedSalary = response_expectedSalary['choices'][0]['message']['content'].strip()\n",
    "\n",
    "    df2.loc[index, 'expectedSalary'] = message_expectedSalary\n",
    "    \n",
    "    time.sleep(2)\n",
    "        \n",
    "    if index % 10 == 0:\n",
    "        print(f\"Processed row {index} for company {row['companyName']} with expected salary: {message_expectedSalary}\")\n",
    "        \n",
    "#print results\n",
    "df2[['companyName', 'expectedSalary']]"
   ]
  },
  {
   "cell_type": "code",
   "execution_count": null,
   "id": "6bfaa303",
   "metadata": {},
   "outputs": [],
   "source": []
  }
 ],
 "metadata": {
  "kernelspec": {
   "display_name": "Python 3 (ipykernel)",
   "language": "python",
   "name": "python3"
  },
  "language_info": {
   "codemirror_mode": {
    "name": "ipython",
    "version": 3
   },
   "file_extension": ".py",
   "mimetype": "text/x-python",
   "name": "python",
   "nbconvert_exporter": "python",
   "pygments_lexer": "ipython3",
   "version": "3.9.16"
  }
 },
 "nbformat": 4,
 "nbformat_minor": 5
}
