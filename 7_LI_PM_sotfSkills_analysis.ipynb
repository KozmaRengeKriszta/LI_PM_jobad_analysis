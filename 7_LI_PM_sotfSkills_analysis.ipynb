{
 "cells": [
  {
   "cell_type": "code",
   "execution_count": null,
   "id": "4cf57b3a",
   "metadata": {},
   "outputs": [],
   "source": [
    "import numpy as np\n",
    "import pandas as pd\n",
    "import nltk\n",
    "import time\n",
    "import openai\n",
    "openai.api_key = \"TYPE HERE YOUR API KEY\"\n",
    "\n",
    "pd.set_option('display.max_rows', None)\n",
    "pd.set_option('display.max_columns', None)"
   ]
  },
  {
   "cell_type": "markdown",
   "id": "0e238bbe",
   "metadata": {},
   "source": [
    "## Soft skills\n"
   ]
  },
  {
   "cell_type": "code",
   "execution_count": null,
   "id": "2af230b2",
   "metadata": {},
   "outputs": [],
   "source": [
    "#Create a new dataframe\n",
    "LI_PM_jobad = pd.read_csv('LI_PM_jobDesc.csv', delimiter = ',')\n",
    "df = pd.DataFrame()\n",
    "df['companyName'] = LI_PM_jobad['companyName']\n",
    "df['jobDescription'] = LI_PM_jobad['jobDescription']\n",
    "df['softSkills'] = ''\n",
    "\n",
    "#iterate through the dataframe\n",
    "for index, row in df.iterrows():\n",
    "    \n",
    "    prompt_softSkills = row['jobDescription'] + \"/n --- /n This is a product manager job description.\\\n",
    "         Make a maximum 10-point list of the soft skills that the applicant should have!\\\n",
    "         Don't use whole sentences, just list keywords in your answers!\\\n",
    "         Answer the question as truthfully as possible using the provided text.\\\n",
    "         If there is no clear information about soft skills in the description,\\\n",
    "         use only this value: 'Unknown' and don't use whole sentences.\"\n",
    "\n",
    "    response_softSkills = openai.ChatCompletion.create(\n",
    "        model = \"gpt-4\",\n",
    "        messages = [\n",
    "            {\"role\": \"system\", \"content\": \"You are a helpful data science assistant.\"},\n",
    "            {\"role\": \"user\", \"content\": prompt_softSkills}],\n",
    "        max_tokens=100,\n",
    "        temperature=0)\n",
    "    \n",
    "    message_softSkills = response_softSkills['choices'][0]['message']['content'].strip()\n",
    "\n",
    "    df.loc[index, 'softSkills'] = message_softSkills\n",
    "    \n",
    "    time.sleep(0.5)\n",
    "        \n",
    "    if index % 10 == 0:\n",
    "        print(f\"Processed row {index} for company {row['companyName']} with soft skills: {message_softSkills}\")\n",
    "        \n",
    "#print results\n",
    "df[['companyName', 'softSkills']]"
   ]
  },
  {
   "cell_type": "markdown",
   "id": "c1f85c8e",
   "metadata": {},
   "source": [
    "## Further analysis with chatGPT\n",
    "\n",
    "At first, I classified the text fragments collected by the AI from the 212 job advertisements into 5 large groups. Then, I copied these groups one by one to ChatGPT and asked it to help me with the analysis using the following prompt:\n",
    "\n",
    "\"I will show some job advertisement details about soft skills given by employers - from now on, I will refer to this group of advertisements as jobAd_n.\n",
    "Tasks:\n",
    "1) Combine similar soft skills in the jobAd_n advertisement group!\n",
    "2) Then, collect the 15 most frequently occurring soft skills from this jobAd_n group!\n",
    "3) Finally, make a table of how many advertisements appeared in the jobAd_n group!\"\n",
    "\n",
    "Then, I saved the table created by ChatGPT for myself and performed the same analysis with all advertisement groups. Finally, I copied the tables created after all 5 groups and asked ChatGPT to combine similar soft skills and make a last combined table."
   ]
  },
  {
   "cell_type": "code",
   "execution_count": null,
   "id": "bcded185",
   "metadata": {},
   "outputs": [],
   "source": []
  }
 ],
 "metadata": {
  "kernelspec": {
   "display_name": "Python 3 (ipykernel)",
   "language": "python",
   "name": "python3"
  },
  "language_info": {
   "codemirror_mode": {
    "name": "ipython",
    "version": 3
   },
   "file_extension": ".py",
   "mimetype": "text/x-python",
   "name": "python",
   "nbconvert_exporter": "python",
   "pygments_lexer": "ipython3",
   "version": "3.9.16"
  }
 },
 "nbformat": 4,
 "nbformat_minor": 5
}
