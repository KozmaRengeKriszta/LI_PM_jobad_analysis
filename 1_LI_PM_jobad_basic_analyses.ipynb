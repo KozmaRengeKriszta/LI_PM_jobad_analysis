{
 "cells": [
  {
   "cell_type": "code",
   "execution_count": null,
   "id": "5c03ee6e",
   "metadata": {},
   "outputs": [],
   "source": [
    "import numpy as np\n",
    "import pandas as pd\n",
    "import matplotlib\n",
    "import matplotlib.pyplot as plt\n",
    "%matplotlib inline\n",
    "\n",
    "pd.set_option('display.max_rows', None)\n",
    "pd.set_option('display.max_columns', None)"
   ]
  },
  {
   "cell_type": "markdown",
   "id": "620e022b",
   "metadata": {},
   "source": [
    "## Load data"
   ]
  },
  {
   "cell_type": "code",
   "execution_count": null,
   "id": "67d9fbf7",
   "metadata": {},
   "outputs": [],
   "source": [
    "LI_PM_jobad = pd.read_csv('relevant_jobAds.csv', delimiter = ',')\n",
    "LI_PM_jobad"
   ]
  },
  {
   "cell_type": "markdown",
   "id": "610ec304",
   "metadata": {},
   "source": [
    "## Informations about companies"
   ]
  },
  {
   "cell_type": "code",
   "execution_count": null,
   "id": "1cf04119",
   "metadata": {},
   "outputs": [],
   "source": [
    "#location of work\n",
    "\n",
    "LI_PM_jobad.groupby('jobLocation').count().jobId.sort_values(ascending = False)"
   ]
  },
  {
   "cell_type": "code",
   "execution_count": null,
   "id": "24349390",
   "metadata": {},
   "outputs": [],
   "source": [
    "#data cleaning in 'jobLocation' column\n",
    "\n",
    "LI_PM_jobad['jobLocation'] = LI_PM_jobad['jobLocation'].replace(['Budapest Metropolitan Area', 'Budapest, Budapest, Hungary'], 'Budapest, Hungary')\n",
    "LI_PM_jobad['jobLocation'] = LI_PM_jobad['jobLocation'].replace('EMEA', 'Europe-MiddleEast-Africa Region')\n",
    "LI_PM_jobad['jobLocation'] = LI_PM_jobad['jobLocation'].replace('Berlin, Germany', 'Germany')\n"
   ]
  },
  {
   "cell_type": "code",
   "execution_count": null,
   "id": "a28d6ca1",
   "metadata": {},
   "outputs": [],
   "source": [
    "#company staff count\n",
    "\n",
    "tmp = LI_PM_jobad.sort_values(by='companyStaffCount', ascending=False)\n",
    "tmp = tmp[['companyName', 'companyStaffCount']].reset_index(drop=True)\n",
    "tmp = tmp.drop_duplicates().reset_index(drop=True)\n",
    "tmp"
   ]
  },
  {
   "cell_type": "code",
   "execution_count": null,
   "id": "5cb90330",
   "metadata": {},
   "outputs": [],
   "source": [
    "#companyName correction in row_139\n",
    "LI_PM_jobad.loc[139, 'companyName'] = 'Jófogás'"
   ]
  },
  {
   "cell_type": "code",
   "execution_count": null,
   "id": "df9a6e43",
   "metadata": {},
   "outputs": [],
   "source": [
    "#job industries\n",
    "\n",
    "pd.set_option('display.max_colwidth', None)\n",
    "\n",
    "tmp = LI_PM_jobad[['companyName', 'jobIndustries']]\n",
    "\n",
    "tmp['jobIndustries'] = tmp['jobIndustries'].replace(np.nan, 'Missing values')\n",
    "\n",
    "tmp = tmp.sort_values(by = 'jobIndustries').drop_duplicates().reset_index(drop=True)\n",
    "\n",
    "tmp"
   ]
  },
  {
   "cell_type": "markdown",
   "id": "9af53d21",
   "metadata": {},
   "source": [
    "## Type of workplace and employment"
   ]
  },
  {
   "cell_type": "code",
   "execution_count": null,
   "id": "ac484b50",
   "metadata": {},
   "outputs": [],
   "source": [
    "#type of workplace\n",
    "\n",
    "LI_PM_jobad['workplaceType'] = LI_PM_jobad['workplaceType'].replace(np.nan, 'Missing values')\n",
    "\n",
    "LI_PM_jobad.groupby('workplaceType').count().jobId.sort_values(ascending = False)"
   ]
  },
  {
   "cell_type": "code",
   "execution_count": null,
   "id": "64201a08",
   "metadata": {},
   "outputs": [],
   "source": [
    "#type of employment\n",
    "\n",
    "LI_PM_jobad['jobType'] = LI_PM_jobad['jobType'].replace(np.nan, 'Missing values')\n",
    "\n",
    "LI_PM_jobad.groupby('jobType').count().jobId.sort_values(ascending = False)"
   ]
  },
  {
   "cell_type": "markdown",
   "id": "f62e3345",
   "metadata": {},
   "source": [
    "## Seniority level based on LI classification"
   ]
  },
  {
   "cell_type": "code",
   "execution_count": null,
   "id": "82f1b357",
   "metadata": {},
   "outputs": [],
   "source": [
    "tmp = LI_PM_jobad[['companyName', 'experienceLevel']]\n",
    "\n",
    "tmp['experienceLevel'] = tmp['experienceLevel'].replace(np.nan, 'Missing values')\n",
    "\n",
    "tmp"
   ]
  },
  {
   "cell_type": "code",
   "execution_count": null,
   "id": "6a21b4af",
   "metadata": {},
   "outputs": [],
   "source": [
    "tmp.groupby('experienceLevel').count().companyName.sort_values(ascending = False)"
   ]
  },
  {
   "cell_type": "markdown",
   "id": "8f1b7835",
   "metadata": {},
   "source": [
    "## Applicants count"
   ]
  },
  {
   "cell_type": "code",
   "execution_count": null,
   "id": "a77d9c54",
   "metadata": {},
   "outputs": [],
   "source": [
    "tmp = LI_PM_jobad[['companyName', 'applicantsCount']]\n",
    "\n",
    "tmp['applicantsCount'] = tmp['applicantsCount'].replace(np.nan, 0)\n",
    "\n",
    "tmp.sort_values(by = 'applicantsCount', ascending = False).drop_duplicates().reset_index(drop=True)"
   ]
  },
  {
   "cell_type": "markdown",
   "id": "32142915",
   "metadata": {},
   "source": [
    "## How long is an advertisement active?"
   ]
  },
  {
   "cell_type": "code",
   "execution_count": null,
   "id": "8b7c817a",
   "metadata": {},
   "outputs": [],
   "source": [
    "tmp = LI_PM_jobad[['companyName','appliesClosedAt','postedAt']]\n",
    "\n",
    "tmp['postedAt'] = pd.to_datetime(tmp['postedAt']).dt.round('D')\n",
    "tmp['appliesClosedAt'] = pd.to_datetime(tmp['appliesClosedAt']).dt.round('D')\n",
    "\n",
    "tmp['jobad_active_was'] = (tmp['appliesClosedAt'] - tmp['postedAt']).dt.days\n",
    "\n",
    "tmp = tmp.sort_values(by = ['jobad_active_was'], ascending = False)\n",
    "\n",
    "tmp = tmp[['companyName', 'jobad_active_was']].drop_duplicates().reset_index(drop = True)\n",
    "tmp"
   ]
  },
  {
   "cell_type": "markdown",
   "id": "f65515a9",
   "metadata": {
    "collapsed": true
   },
   "source": [
    "## Creating a filtered csv for further analysis"
   ]
  },
  {
   "cell_type": "code",
   "execution_count": null,
   "id": "6c849656",
   "metadata": {},
   "outputs": [],
   "source": [
    "LI_PM_jobad[['companyName', 'jobDescription']].to_csv('LI_PM_jobDesc.csv', index=False)"
   ]
  }
 ],
 "metadata": {
  "kernelspec": {
   "display_name": "Python 3 (ipykernel)",
   "language": "python",
   "name": "python3"
  },
  "language_info": {
   "codemirror_mode": {
    "name": "ipython",
    "version": 3
   },
   "file_extension": ".py",
   "mimetype": "text/x-python",
   "name": "python",
   "nbconvert_exporter": "python",
   "pygments_lexer": "ipython3",
   "version": "3.9.16"
  }
 },
 "nbformat": 4,
 "nbformat_minor": 5
}
